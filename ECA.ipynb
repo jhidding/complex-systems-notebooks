{
 "cells": [
  {
   "cell_type": "markdown",
   "metadata": {},
   "source": [
    "## Install instructions\n",
    "\n",
    "Requirements:\n",
    "\n",
    "* Python 3\n",
    "* NodeJS (for Jupyter Lab)\n",
    "\n",
    "```\n",
    "pip install jupyterlab numpy ipywidgets matplotlib\n",
    "jupyter labextension install @jupyter-widgets/jupyterlab-manager\n",
    "```"
   ]
  },
  {
   "cell_type": "markdown",
   "metadata": {},
   "source": [
    "## Imports\n",
    "\n",
    "We use a helper function to build the settings widget. This can be found in `settings_widget.py`."
   ]
  },
  {
   "cell_type": "code",
   "execution_count": 1,
   "metadata": {
    "jupyter": {
     "source_hidden": true
    }
   },
   "outputs": [],
   "source": [
    "import ipywidgets as widgets\n",
    "import numpy as np\n",
    "from enum import Enum\n",
    "from matplotlib import pyplot as plt\n",
    "\n",
    "from settings_widget import settings_widget"
   ]
  },
  {
   "cell_type": "markdown",
   "metadata": {},
   "source": [
    "## Settings\n",
    "\n",
    "We offer two options for initial conditions: randomized 50/50 and single pixel alive."
   ]
  },
  {
   "cell_type": "code",
   "execution_count": 2,
   "metadata": {},
   "outputs": [],
   "source": [
    "class IC(Enum):\n",
    "    randomized = 0\n",
    "    single_pixel = 1"
   ]
  },
  {
   "cell_type": "markdown",
   "metadata": {},
   "source": [
    "With the settings we control the *size* of the universe, the number of *generations* to compute, the *rule* to follow and the type of initial condition."
   ]
  },
  {
   "cell_type": "code",
   "execution_count": 3,
   "metadata": {},
   "outputs": [],
   "source": [
    "@settings_widget\n",
    "class Settings:\n",
    "    \"\"\"Settings for elementary celular automaton.\"\"\"\n",
    "    size: int        = 512\n",
    "    generations: int = 256\n",
    "    rule: int        = 30\n",
    "    ic_type: IC      = IC.single_pixel"
   ]
  },
  {
   "cell_type": "markdown",
   "metadata": {},
   "source": [
    "To propagate the universe to its next state, we compute the three bit number that encodes the states of each cell and its two neighbours."
   ]
  },
  {
   "cell_type": "code",
   "execution_count": 4,
   "metadata": {
    "jupyter": {
     "source_hidden": true
    }
   },
   "outputs": [
    {
     "data": {
      "image/png": "[encoded data removed]",
      "text/plain": [
       "<Figure size 1080x216 with 8 Axes>"
      ]
     },
     "metadata": {
      "needs_background": "light"
     },
     "output_type": "display_data"
    }
   ],
   "source": [
    "fig, axes = plt.subplots(1, 8, figsize=(15, 3), subplot_kw={\"aspect\": \"equal\"})\n",
    "for i in range(8):\n",
    "    p = axes[i].pcolormesh([[i & 4 >> j > 0 for j in range(3)]],\n",
    "                           vmin=0, vmax=1, cmap='summer', edgecolors='black',lw=1)\n",
    "    axes[i].set_title(\"{} = {:03b}b\".format(i, i))\n",
    "    p.axes.get_xaxis().set_visible(False)\n",
    "    p.axes.get_yaxis().set_visible(False)\n",
    "plt.show()"
   ]
  },
  {
   "cell_type": "markdown",
   "metadata": {},
   "source": [
    "Each of these patterns is encoded in the rule number as a bit, resulting in eight bits. For example rule 30:"
   ]
  },
  {
   "cell_type": "code",
   "execution_count": 5,
   "metadata": {
    "jupyter": {
     "source_hidden": true
    },
    "tags": [
     "hide_input"
    ]
   },
   "outputs": [
    {
     "data": {
      "image/png": "[encoded data removed]",
      "text/plain": [
       "<Figure size 1080x144 with 8 Axes>"
      ]
     },
     "metadata": {
      "needs_background": "light"
     },
     "output_type": "display_data"
    }
   ],
   "source": [
    "rule = 30\n",
    "fig, axes = plt.subplots(1, 8, figsize=(15, 2), subplot_kw={\"aspect\": \"equal\"})\n",
    "for i in range(8):\n",
    "    p = axes[i].pcolormesh([[i & 4 >> j > 0 for j in range(3)], [np.nan, rule & 128 >> i, np.nan]],\n",
    "                           vmin=0, vmax=1, cmap='summer', edgecolors='black', lw=1)\n",
    "    axes[i].set_title(\"{} = {:03b}b\".format(i, i))\n",
    "    p.axes.get_xaxis().set_visible(False)\n",
    "    p.axes.get_yaxis().set_visible(False)\n",
    "    axes[i].invert_yaxis()\n",
    "fig.suptitle(\"Rule {} = {:08b}b\".format(rule, rule))\n",
    "plt.show()"
   ]
  },
  {
   "cell_type": "markdown",
   "metadata": {},
   "source": [
    "The propagator can be stated a bit cryptically."
   ]
  },
  {
   "cell_type": "code",
   "execution_count": 6,
   "metadata": {},
   "outputs": [],
   "source": [
    "def propagate(rule, x):\n",
    "    state = (np.roll(x, 1) << 2) | (x << 1) | np.roll(x, -1)\n",
    "    return rule & (1 << state) > 0"
   ]
  },
  {
   "cell_type": "markdown",
   "metadata": {},
   "source": [
    "Next, we need to write a function that generates a plot of the CA's evolution given all of the input settings."
   ]
  },
  {
   "cell_type": "code",
   "execution_count": 7,
   "metadata": {},
   "outputs": [],
   "source": [
    "def f(settings):\n",
    "    N = settings.size\n",
    "    M = settings.generations\n",
    "    universe = np.zeros(dtype=int, shape=[M, N])\n",
    "    if settings.ic_type == IC.randomized:\n",
    "        universe[0] = np.random.randint(0, 2, size=N)\n",
    "    else:\n",
    "        universe[0][N//2] = 1\n",
    "\n",
    "    for i in range(1, M):\n",
    "        universe[i] = propagate(settings.rule, universe[i-1])\n",
    "    \n",
    "    plt.figure(figsize=(12, 10))\n",
    "    plt.imshow(universe, interpolation='kaiser', cmap='summer')\n",
    "    plt.show()"
   ]
  },
  {
   "cell_type": "markdown",
   "metadata": {},
   "source": [
    "Combining everything into a widget:"
   ]
  },
  {
   "cell_type": "code",
   "execution_count": 8,
   "metadata": {
    "jupyter": {
     "source_hidden": true
    }
   },
   "outputs": [
    {
     "data": {
      "application/vnd.jupyter.widget-view+json": {
       "model_id": "74377b67a0fa42bca7b008e5cfd9e6a6",
       "version_major": 2,
       "version_minor": 0
      },
      "text/plain": [
       "AppLayout(children=(Label(value='Elementary Cellular Automata', layout=Layout(flex='0 1 20pt', grid_area='head…"
      ]
     },
     "metadata": {},
     "output_type": "display_data"
    }
   ],
   "source": [
    "settings = Settings()\n",
    "\n",
    "logo = open(\"figures/logo-rot.png\", \"rb\").read()\n",
    "plot = widgets.interactive_output(f, {\"settings\": settings})\n",
    "plot.layout.height = '500px'\n",
    "\n",
    "layout = widgets.AppLayout(\n",
    "    header=widgets.Label(\"Elementary Cellular Automata\", layout=widgets.Layout(flex=\"0 1 20pt\")),\n",
    "    left_sidebar=widgets.VBox(list(settings.widgets.values())),\n",
    "    center=plot,\n",
    "    right_sidebar=widgets.Image(value=logo, format='png', width=\"50px\",\n",
    "                                layout=widgets.Layout(margin=\"0pt 15pt\",\n",
    "                                                      object_fit=\"scale-down\")),\n",
    "    footer=widgets.Label(\"Brought to you by the Netherlands eScience Center.\"),\n",
    "    pane_heights=[1,9,1])\n",
    "\n",
    "layout"
   ]
  }
 ],
 "metadata": {
  "kernelspec": {
   "display_name": "Python 3",
   "language": "python",
   "name": "python3"
  },
  "language_info": {
   "codemirror_mode": {
    "name": "ipython",
    "version": 3
   },
   "file_extension": ".py",
   "mimetype": "text/x-python",
   "name": "python",
   "nbconvert_exporter": "python",
   "pygments_lexer": "ipython3",
   "version": "3.7.4"
  }
 },
 "nbformat": 4,
 "nbformat_minor": 4
}
